{
 "cells": [
  {
   "cell_type": "markdown",
   "id": "b40de380",
   "metadata": {},
   "source": [
    "# Lab1 Question 1.7.1\n",
    "Just some random words for the lab homework"
   ]
  },
  {
   "cell_type": "code",
   "execution_count": 1,
   "id": "1ddddc6f",
   "metadata": {},
   "outputs": [
    {
     "name": "stdout",
     "output_type": "stream",
     "text": [
      " Kim Jong un is so cool!\n"
     ]
    }
   ],
   "source": [
    "print(\" Kim Jong un is so cool!\")"
   ]
  },
  {
   "cell_type": "code",
   "execution_count": null,
   "id": "151c68d8",
   "metadata": {},
   "outputs": [],
   "source": []
  }
 ],
 "metadata": {
  "kernelspec": {
   "display_name": "Python 3 (ipykernel)",
   "language": "python",
   "name": "python3"
  },
  "language_info": {
   "codemirror_mode": {
    "name": "ipython",
    "version": 3
   },
   "file_extension": ".py",
   "mimetype": "text/x-python",
   "name": "python",
   "nbconvert_exporter": "python",
   "pygments_lexer": "ipython3",
   "version": "3.10.9"
  }
 },
 "nbformat": 4,
 "nbformat_minor": 5
}
